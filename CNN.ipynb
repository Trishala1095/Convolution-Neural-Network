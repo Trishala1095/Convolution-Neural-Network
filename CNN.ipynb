{
  "nbformat": 4,
  "nbformat_minor": 0,
  "metadata": {
    "celltoolbar": "Raw Cell Format",
    "kernelspec": {
      "display_name": "Python 3",
      "language": "python",
      "name": "python3"
    },
    "language_info": {
      "codemirror_mode": {
        "name": "ipython",
        "version": 3
      },
      "file_extension": ".py",
      "mimetype": "text/x-python",
      "name": "python",
      "nbconvert_exporter": "python",
      "pygments_lexer": "ipython3",
      "version": "3.6.10"
    },
    "colab": {
      "name": "CNN.ipynb",
      "provenance": []
    }
  },
  "cells": [
    {
      "cell_type": "markdown",
      "metadata": {
        "id": "dRI_Ws_pAcqw"
      },
      "source": [
        "# Assignment2"
      ]
    },
    {
      "cell_type": "markdown",
      "metadata": {
        "id": "rWQwfZuIAcq4"
      },
      "source": [
        "## Deep learning CS677 CNN"
      ]
    },
    {
      "cell_type": "code",
      "metadata": {
        "id": "0ycjyfhTAcq5",
        "outputId": "f850d045-f20a-4867-d1ce-f131e3cc8c7d"
      },
      "source": [
        "from keras.models import Sequential\n",
        "from keras.layers import Dense, Conv1D, Flatten, MaxPooling1D\n",
        "from sklearn.model_selection import train_test_split\n",
        "from sklearn.metrics import confusion_matrix\n",
        "from sklearn.datasets import load_iris\n",
        "from numpy import unique\n",
        "import pandas as pd"
      ],
      "execution_count": null,
      "outputs": [
        {
          "output_type": "stream",
          "text": [
            "Using TensorFlow backend.\n"
          ],
          "name": "stderr"
        }
      ]
    },
    {
      "cell_type": "markdown",
      "metadata": {
        "id": "Zfz9EslMAcq7"
      },
      "source": [
        "### Load dataset and reshape"
      ]
    },
    {
      "cell_type": "code",
      "metadata": {
        "id": "NUQczlKUAcq8",
        "outputId": "9a33ac41-47af-4cf8-81be-4fa78bd32aba"
      },
      "source": [
        "data = pd.read_csv(\"data.csv\",header= None)\n",
        "\n",
        "labels = data.iloc[:, -1]\n",
        "u_data = data.drop(128,axis = 1)\n",
        "\n",
        "u_data = u_data.values.reshape(u_data.shape[0], u_data.shape[1], 1)\n",
        "print(u_data.shape)\n",
        "\n",
        "X_train,X_test,y_train,y_test = train_test_split(u_data,labels,test_size = 0.2, shuffle = True )"
      ],
      "execution_count": null,
      "outputs": [
        {
          "output_type": "stream",
          "text": [
            "(21000, 128, 1)\n"
          ],
          "name": "stdout"
        }
      ]
    },
    {
      "cell_type": "markdown",
      "metadata": {
        "id": "SM_4RLo-Acq9"
      },
      "source": [
        "### Network architecture"
      ]
    },
    {
      "cell_type": "code",
      "metadata": {
        "id": "fAK1PDvVAcq9",
        "outputId": "30e3b43e-3c23-49bc-f8c2-86ffd5d1727f"
      },
      "source": [
        "model = Sequential()\n",
        "model.add(Conv1D(64, 2, activation=\"relu\", input_shape=(128,1)))\n",
        "model.add(Dense(16, activation=\"relu\"))\n",
        "model.add(MaxPooling1D())\n",
        "model.add(Flatten())\n",
        "model.add(Dense(7, activation = 'softmax'))\n",
        "model.compile(loss = 'sparse_categorical_crossentropy', \n",
        "     optimizer = \"adam\",               \n",
        "              metrics = ['accuracy'])\n",
        "model.summary()\n"
      ],
      "execution_count": null,
      "outputs": [
        {
          "output_type": "stream",
          "text": [
            "WARNING:tensorflow:From /Users/trishala/opt/anaconda3/envs/trui/lib/python3.6/site-packages/tensorflow_core/python/ops/resource_variable_ops.py:1630: calling BaseResourceVariable.__init__ (from tensorflow.python.ops.resource_variable_ops) with constraint is deprecated and will be removed in a future version.\n",
            "Instructions for updating:\n",
            "If using Keras pass *_constraint arguments to layers.\n",
            "WARNING:tensorflow:From /Users/trishala/opt/anaconda3/envs/trui/lib/python3.6/site-packages/keras/backend/tensorflow_backend.py:4070: The name tf.nn.max_pool is deprecated. Please use tf.nn.max_pool2d instead.\n",
            "\n",
            "Model: \"sequential_1\"\n",
            "_________________________________________________________________\n",
            "Layer (type)                 Output Shape              Param #   \n",
            "=================================================================\n",
            "conv1d_1 (Conv1D)            (None, 127, 64)           192       \n",
            "_________________________________________________________________\n",
            "dense_1 (Dense)              (None, 127, 16)           1040      \n",
            "_________________________________________________________________\n",
            "max_pooling1d_1 (MaxPooling1 (None, 63, 16)            0         \n",
            "_________________________________________________________________\n",
            "flatten_1 (Flatten)          (None, 1008)              0         \n",
            "_________________________________________________________________\n",
            "dense_2 (Dense)              (None, 7)                 7063      \n",
            "=================================================================\n",
            "Total params: 8,295\n",
            "Trainable params: 8,295\n",
            "Non-trainable params: 0\n",
            "_________________________________________________________________\n"
          ],
          "name": "stdout"
        }
      ]
    },
    {
      "cell_type": "markdown",
      "metadata": {
        "id": "rw2yKGVUAcq-"
      },
      "source": [
        "### Fitting the model and getting accuracy"
      ]
    },
    {
      "cell_type": "code",
      "metadata": {
        "id": "EcPBkkGYAcq-",
        "outputId": "61a75526-47cd-4bc8-a2dc-176935a6977b"
      },
      "source": [
        "model.fit(X_train, y_train, batch_size=64,epochs=100, verbose=0)"
      ],
      "execution_count": null,
      "outputs": [
        {
          "output_type": "stream",
          "text": [
            "WARNING:tensorflow:From /Users/trishala/opt/anaconda3/envs/trui/lib/python3.6/site-packages/keras/backend/tensorflow_backend.py:422: The name tf.global_variables is deprecated. Please use tf.compat.v1.global_variables instead.\n",
            "\n"
          ],
          "name": "stdout"
        }
      ]
    },
    {
      "cell_type": "code",
      "metadata": {
        "id": "L7LmUFpmAcq_"
      },
      "source": [
        "accuracy = model.evaluate(X_train, y_train)\n",
        "print(\"Loss:\", accuracy[0], \" Accuracy:\", accuracy[1])"
      ],
      "execution_count": null,
      "outputs": []
    },
    {
      "cell_type": "code",
      "metadata": {
        "id": "x0XY4CCaAcq_"
      },
      "source": [
        "pred = model.predict(X_test)\n",
        "pred_y = pred.argmax(axis=-1)"
      ],
      "execution_count": null,
      "outputs": []
    },
    {
      "cell_type": "code",
      "metadata": {
        "id": "Ex8CEYo1Acq_"
      },
      "source": [
        "conf_mat = confusion_matrix(y_test, pred_y)\n",
        "print(conf_mat)"
      ],
      "execution_count": null,
      "outputs": []
    },
    {
      "cell_type": "code",
      "metadata": {
        "id": "qGJYSzPrAcrA"
      },
      "source": [
        ""
      ],
      "execution_count": null,
      "outputs": []
    }
  ]
}